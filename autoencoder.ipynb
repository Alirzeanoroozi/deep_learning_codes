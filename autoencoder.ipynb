{
  "nbformat": 4,
  "nbformat_minor": 0,
  "metadata": {
    "colab": {
      "provenance": [],
      "authorship_tag": "ABX9TyOUnYuYws4H8VH/1Wy94vPu",
      "include_colab_link": true
    },
    "kernelspec": {
      "name": "python3",
      "display_name": "Python 3"
    },
    "language_info": {
      "name": "python"
    }
  },
  "cells": [
    {
      "cell_type": "markdown",
      "metadata": {
        "id": "view-in-github",
        "colab_type": "text"
      },
      "source": [
        "<a href=\"https://colab.research.google.com/github/Alirzeanoroozi/deep_learning_codes/blob/main/autoencoder.ipynb\" target=\"_parent\"><img src=\"https://colab.research.google.com/assets/colab-badge.svg\" alt=\"Open In Colab\"/></a>"
      ]
    },
    {
      "cell_type": "markdown",
      "source": [
        "## Create Dataset\n"
      ],
      "metadata": {
        "id": "QdCRhoZecbhJ"
      }
    },
    {
      "cell_type": "code",
      "execution_count": null,
      "metadata": {
        "colab": {
          "base_uri": "https://localhost:8080/"
        },
        "id": "16oyEKsYC4ga",
        "outputId": "5751131a-7df8-40a9-e077-e1e692e91bda"
      },
      "outputs": [
        {
          "output_type": "execute_result",
          "data": {
            "text/plain": [
              "(1000, 3)"
            ]
          },
          "metadata": {},
          "execution_count": 1
        }
      ],
      "source": [
        "import numpy as np\n",
        "import random\n",
        "\n",
        "np.random.seed(37)\n",
        "random.seed(37)\n",
        "\n",
        "size = 1_000\n",
        "\n",
        "X_0 = np.random.normal(0, 1, size=size)\n",
        "X_1 = 1.1 + 4 * X_0 + np.random.normal(0, 1, size=size)\n",
        "X_2 = 2.3 - 0.5 * X_0 + np.random.normal(0, 1, size=size)\n",
        "\n",
        "X = np.hstack([X_0.reshape(-1, 1), X_1.reshape(-1, 1), X_2.reshape(-1, 1)])\n",
        "\n",
        "X.shape"
      ]
    },
    {
      "cell_type": "code",
      "source": [
        "import itertools\n",
        "import pandas as pd\n",
        "\n",
        "def make_missing(X, frac=0.1):\n",
        "    n = int(frac * X.shape[0] * X.shape[1])\n",
        "\n",
        "    rows = list(range(X.shape[0]))\n",
        "    cols = list(range(X.shape[1]))\n",
        "\n",
        "    coordinates = list(itertools.product(*[rows, cols]))\n",
        "    random.shuffle(coordinates)\n",
        "    coordinates = coordinates[:n]\n",
        "\n",
        "    M = np.copy(X)\n",
        "\n",
        "    for r, c in coordinates:\n",
        "        M[r, c] = np.nan\n",
        "\n",
        "    return pd.DataFrame(M, columns=[f'X_{i}' for i in range(X.shape[1])]), coordinates\n",
        "\n",
        "df, coordinates = make_missing(X)"
      ],
      "metadata": {
        "id": "rkAaLwt6ElwY"
      },
      "execution_count": null,
      "outputs": []
    },
    {
      "cell_type": "code",
      "source": [
        "df.isna().sum()"
      ],
      "metadata": {
        "colab": {
          "base_uri": "https://localhost:8080/"
        },
        "id": "DQqdq8izEzub",
        "outputId": "2bb853cf-7044-4a75-9c75-8e335925f238"
      },
      "execution_count": null,
      "outputs": [
        {
          "output_type": "execute_result",
          "data": {
            "text/plain": [
              "X_0     99\n",
              "X_1    102\n",
              "X_2     99\n",
              "dtype: int64"
            ]
          },
          "metadata": {},
          "execution_count": 3
        }
      ]
    },
    {
      "cell_type": "code",
      "source": [
        "N_df = df.dropna()\n",
        "T_df = pd.DataFrame(X[df.isnull().any(axis=1), :], columns=N_df.columns)\n",
        "M_df = df[df.isnull().any(axis=1)]\n",
        "\n",
        "N_df.shape, T_df.shape, M_df.shape"
      ],
      "metadata": {
        "colab": {
          "base_uri": "https://localhost:8080/"
        },
        "id": "71Rbnhq9E1zi",
        "outputId": "b77a7801-624a-4053-a6eb-bf3876f8af39"
      },
      "execution_count": null,
      "outputs": [
        {
          "output_type": "execute_result",
          "data": {
            "text/plain": [
              "((732, 3), (268, 3), (268, 3))"
            ]
          },
          "metadata": {},
          "execution_count": 4
        }
      ]
    },
    {
      "cell_type": "code",
      "source": [
        "print(N_df.iloc[0])\n",
        "print(T_df.iloc[0])\n",
        "print(M_df.iloc[0])"
      ],
      "metadata": {
        "colab": {
          "base_uri": "https://localhost:8080/"
        },
        "id": "S0a_VQr7Q5Hm",
        "outputId": "a366ee2b-2f36-43b1-c814-2dd3f2a4d907"
      },
      "execution_count": null,
      "outputs": [
        {
          "output_type": "stream",
          "name": "stdout",
          "text": [
            "X_0    0.674308\n",
            "X_1    3.724844\n",
            "X_2    0.843894\n",
            "Name: 1, dtype: float64\n",
            "X_0   -0.054464\n",
            "X_1    0.222191\n",
            "X_2    2.381753\n",
            "Name: 0, dtype: float64\n",
            "X_0   -0.054464\n",
            "X_1         NaN\n",
            "X_2    2.381753\n",
            "Name: 0, dtype: float64\n"
          ]
        }
      ]
    },
    {
      "cell_type": "code",
      "source": [
        "import torch\n",
        "from torch.utils.data import Dataset, DataLoader\n",
        "from torchvision.transforms import *\n",
        "\n",
        "class SampleDataset(Dataset):\n",
        "    def __init__(self, X):\n",
        "        self.__X = X\n",
        "\n",
        "    def __len__(self):\n",
        "        return self.__X.shape[0]\n",
        "\n",
        "    def __getitem__(self, idx):\n",
        "        return self.__X[idx,:]\n",
        "\n",
        "N_ds = SampleDataset(N_df.values)\n",
        "M_ds = SampleDataset(M_df.fillna(0.0).values)\n",
        "\n",
        "N_dl = DataLoader(N_ds, batch_size=64, shuffle=True)\n",
        "M_dl = DataLoader(M_ds, batch_size=64, shuffle=True)"
      ],
      "metadata": {
        "id": "81QE1YUbQ4JX"
      },
      "execution_count": null,
      "outputs": []
    },
    {
      "cell_type": "code",
      "source": [
        "from torchvision import datasets\n",
        "from torchvision import transforms\n",
        "\n",
        "class AE(torch.nn.Module):\n",
        "    def __init__(self, input_size):\n",
        "        super().__init__()\n",
        "\n",
        "        self.input_size = input_size\n",
        "        self.drop_out = torch.nn.Dropout(p=0.5)\n",
        "\n",
        "        self.encoder = torch.nn.Sequential(\n",
        "            torch.nn.Linear(input_size, 128),\n",
        "            torch.nn.ReLU(),\n",
        "            torch.nn.Linear(128, 64),\n",
        "            torch.nn.ReLU(),\n",
        "            torch.nn.Linear(64, 36),\n",
        "            torch.nn.ReLU(),\n",
        "            torch.nn.Linear(36, 18),\n",
        "            torch.nn.ReLU(),\n",
        "            torch.nn.Linear(18, 9)\n",
        "        )\n",
        "\n",
        "        self.decoder = torch.nn.Sequential(\n",
        "            torch.nn.Linear(9, 18),\n",
        "            torch.nn.ReLU(),\n",
        "            torch.nn.Linear(18, 36),\n",
        "            torch.nn.ReLU(),\n",
        "            torch.nn.Linear(36, 64),\n",
        "            torch.nn.ReLU(),\n",
        "            torch.nn.Linear(64, 128),\n",
        "            torch.nn.ReLU(),\n",
        "            torch.nn.Linear(128, input_size)\n",
        "        )\n",
        "\n",
        "    def forward(self, x):\n",
        "        drop_out = self.drop_out(x)\n",
        "        encoded = self.encoder(drop_out)\n",
        "        decoded = self.decoder(encoded)\n",
        "        return decoded"
      ],
      "metadata": {
        "id": "5un9CYMXRgdF"
      },
      "execution_count": null,
      "outputs": []
    },
    {
      "cell_type": "code",
      "source": [
        "def train(model):\n",
        "    optimizer = torch.optim.Adam(model.parameters(), lr=1e-3, weight_decay=1e-8)\n",
        "    loss_function = torch.nn.MSELoss()\n",
        "\n",
        "    epochs = 20\n",
        "    loss_df = []\n",
        "\n",
        "    for epoch in range(epochs):\n",
        "        losses = []\n",
        "\n",
        "        for items in N_dl:\n",
        "            optimizer.zero_grad()\n",
        "\n",
        "            reconstructed = model(items)\n",
        "            loss = loss_function(reconstructed, items)\n",
        "\n",
        "            loss.backward()\n",
        "            optimizer.step()\n",
        "\n",
        "            losses.append(loss.detach().cpu().numpy().item())\n",
        "\n",
        "        loss_df.append(np.array(losses).mean())\n",
        "    return loss_df"
      ],
      "metadata": {
        "id": "q2-e3uxpRnVP"
      },
      "execution_count": null,
      "outputs": []
    },
    {
      "cell_type": "code",
      "source": [
        "model = AE(input_size=N_df.shape[1]).double()\n",
        "loss = train(model)"
      ],
      "metadata": {
        "id": "tsZbw4iTRxsv"
      },
      "execution_count": null,
      "outputs": []
    },
    {
      "cell_type": "code",
      "source": [
        "import matplotlib.pyplot as plt\n",
        "\n",
        "plt.plot(list(range(1, 21, 1)), loss)\n",
        "plt.title('MSE Loss')\n",
        "plt.ylabel('MSE')\n",
        "plt.show()"
      ],
      "metadata": {
        "colab": {
          "base_uri": "https://localhost:8080/",
          "height": 479
        },
        "id": "LkWO77jXR6fY",
        "outputId": "f0abee23-8151-4880-808f-0829b2627884"
      },
      "execution_count": null,
      "outputs": [
        {
          "output_type": "display_data",
          "data": {
            "text/plain": [
              "<Figure size 640x480 with 1 Axes>"
            ],
            "image/png": "[encoded data removed]"
          },
          "metadata": {}
        }
      ]
    },
    {
      "cell_type": "code",
      "source": [
        "def get_imputation(m_v, p_v, t_v):\n",
        "    return np.array([p if pd.isna(m) else t for m, p, t in zip(m_v, p_v, t_v)])\n",
        "\n",
        "def get_performance(model):\n",
        "    N_pred = np.vstack([model(items).cpu().detach().numpy() for items in N_dl])\n",
        "    M_pred = np.vstack([model(items).cpu().detach().numpy() for items in M_dl])\n",
        "    I_pred = np.array([get_imputation(M_df.values[r,:], M_pred[r,:], T_df.values[r,:]) for r in range(M_df.shape[0])])\n",
        "\n",
        "    n_perf = np.array([np.linalg.norm(N_df.values[r,:] - N_pred[r,:], 2) for r in range(N_df.shape[0])]).mean()\n",
        "    m_perf = np.array([np.linalg.norm(T_df.values[r,:] - I_pred[r,:], 2) for r in range(T_df.shape[0])]).mean()\n",
        "\n",
        "    return n_perf, m_perf"
      ],
      "metadata": {
        "id": "U9aAS-6AR9qV"
      },
      "execution_count": null,
      "outputs": []
    },
    {
      "cell_type": "code",
      "source": [
        "get_performance(model)"
      ],
      "metadata": {
        "colab": {
          "base_uri": "https://localhost:8080/"
        },
        "id": "3xcCKvG8SDgV",
        "outputId": "072690b0-9c8b-43c9-9a76-bdbe8571719c"
      },
      "execution_count": null,
      "outputs": [
        {
          "output_type": "execute_result",
          "data": {
            "text/plain": [
              "(4.592459849988189, 2.1270108576494335)"
            ]
          },
          "metadata": {},
          "execution_count": 43
        }
      ]
    },
    {
      "cell_type": "code",
      "source": [],
      "metadata": {
        "id": "PE7KcCEGf0Lz"
      },
      "execution_count": null,
      "outputs": []
    }
  ]
}