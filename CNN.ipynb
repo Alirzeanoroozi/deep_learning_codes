{
  "cells": [
    {
      "cell_type": "markdown",
      "metadata": {
        "id": "view-in-github",
        "colab_type": "text"
      },
      "source": [
        "<a href=\"https://colab.research.google.com/github/Alirzeanoroozi/deep_learning_codes/blob/main/CNN.ipynb\" target=\"_parent\"><img src=\"https://colab.research.google.com/assets/colab-badge.svg\" alt=\"Open In Colab\"/></a>"
      ]
    },
    {
      "cell_type": "code",
      "execution_count": null,
      "metadata": {
        "collapsed": true,
        "ExecuteTime": {
          "end_time": "2023-07-16T12:55:35.629237300Z",
          "start_time": "2023-07-16T12:54:06.326748Z"
        },
        "id": "pBVEbczQmxN0"
      },
      "outputs": [],
      "source": [
        "import torch\n",
        "import torchvision\n",
        "from torchvision import transforms\n",
        "from torch.utils.data import DataLoader\n",
        "import torch.nn as nn\n",
        "from torch.utils.data import Subset\n",
        "import matplotlib.pyplot as plt\n",
        "import numpy as np\n",
        "import pandas as pd\n",
        "from torch.autograd import Variable\n",
        "from sklearn.model_selection import train_test_split\n",
        "from torch.utils.data import DataLoader, TensorDataset\n",
        "\n",
        "\n",
        "torch.manual_seed(1)\n",
        "batch_size = 64\n",
        "num_epochs = 20\n",
        "learning_rate = 0.001"
      ]
    },
    {
      "cell_type": "code",
      "source": [
        "device = torch.device(\"cuda:0\")"
      ],
      "metadata": {
        "id": "ptjPtmuYoOb7"
      },
      "execution_count": null,
      "outputs": []
    },
    {
      "cell_type": "markdown",
      "source": [
        "## DATA\n"
      ],
      "metadata": {
        "id": "BEAEUm8NaZWH"
      }
    },
    {
      "cell_type": "code",
      "execution_count": null,
      "outputs": [],
      "source": [
        "# Data\n",
        "image_path = './'\n",
        "\n",
        "transform = transforms.Compose([transforms.ToTensor()])\n",
        "mnist_dataset = torchvision.datasets.MNIST(root=image_path, train=True, transform=transform, download=True)\n",
        "\n",
        "mnist_valid_dataset = Subset(mnist_dataset, torch.arange(10000))\n",
        "mnist_train_dataset = Subset(mnist_dataset, torch.arange(10000, len(mnist_dataset)))\n",
        "mnist_test_dataset = torchvision.datasets.MNIST(root=image_path, train=False, transform=transform, download=False)\n",
        "\n",
        "train_dl = DataLoader(mnist_train_dataset, batch_size, shuffle=True)\n",
        "valid_dl = DataLoader(mnist_valid_dataset, batch_size, shuffle=False)"
      ],
      "metadata": {
        "ExecuteTime": {
          "end_time": "2023-07-16T12:55:35.730701100Z",
          "start_time": "2023-07-16T12:55:35.629237300Z"
        },
        "id": "oRQkbaltmxN5"
      }
    },
    {
      "cell_type": "code",
      "execution_count": null,
      "outputs": [],
      "source": [
        "# Model\n",
        "from collections import OrderedDict\n",
        "\n",
        "# Model\n",
        "model = nn.Sequential(OrderedDict([\n",
        "    ('conv1', nn.Conv2d(in_channels=1, out_channels=32, kernel_size=5, padding=2)),\n",
        "    ('relu1', nn.ReLU()),\n",
        "    ('pool1', nn.MaxPool2d(kernel_size=2)),\n",
        "\n",
        "    ('conv2', nn.Conv2d(in_channels=32, out_channels=64, kernel_size=5, padding=2)),\n",
        "    ('relu2', nn.ReLU()),\n",
        "    ('pool2', nn.MaxPool2d(kernel_size=2)),\n",
        "\n",
        "    ('flatten', nn.Flatten()),\n",
        "    ('fc1', nn.Linear(3136, 1024)),\n",
        "    ('relu3', nn.ReLU()),\n",
        "    ('dropout', nn.Dropout(p=0.5)),\n",
        "    ('fc2', nn.Linear(1024, 10))\n",
        "]))\n",
        "\n",
        "cnn_model = model.to(device)"
      ],
      "metadata": {
        "ExecuteTime": {
          "end_time": "2023-07-16T13:06:25.856917900Z",
          "start_time": "2023-07-16T13:06:25.810329400Z"
        },
        "id": "BZrudtrPmxN6"
      }
    },
    {
      "cell_type": "code",
      "execution_count": null,
      "outputs": [],
      "source": [
        "# Train\n",
        "loss_fn = nn.CrossEntropyLoss()\n",
        "optimizer = torch.optim.Adam(model.parameters(), lr=learning_rate)\n",
        "\n",
        "def train(model, num_epochs, train_dl, valid_dl):\n",
        "    loss_hist_train = [0] * num_epochs\n",
        "    accuracy_hist_train = [0] * num_epochs\n",
        "    loss_hist_valid = [0] * num_epochs\n",
        "    accuracy_hist_valid = [0] * num_epochs\n",
        "\n",
        "    for epoch in range(num_epochs):\n",
        "        model.train()\n",
        "        for x_batch, y_batch in train_dl:\n",
        "            x_batch = x_batch.to(device)\n",
        "            y_batch = y_batch.to(device)\n",
        "\n",
        "            pred = model(x_batch)\n",
        "            loss = loss_fn(pred, y_batch)\n",
        "\n",
        "            loss.backward()\n",
        "            optimizer.step()\n",
        "            optimizer.zero_grad()\n",
        "\n",
        "            loss_hist_train[epoch] += loss.item()*y_batch.size(0)\n",
        "            is_correct = (torch.argmax(pred, dim=1) == y_batch).float()\n",
        "            accuracy_hist_train[epoch] += is_correct.sum().cpu()\n",
        "\n",
        "        loss_hist_train[epoch] /= len(train_dl.dataset)\n",
        "        accuracy_hist_train[epoch] /= len(train_dl.dataset)\n",
        "\n",
        "        model.eval()\n",
        "        with torch.no_grad():\n",
        "            for x_batch, y_batch in valid_dl:\n",
        "                x_batch = x_batch.to(device)\n",
        "                y_batch = y_batch.to(device)\n",
        "\n",
        "                pred = model(x_batch)\n",
        "                loss = loss_fn(pred, y_batch)\n",
        "\n",
        "                loss_hist_valid[epoch] += loss.item()*y_batch.size(0)\n",
        "                is_correct = (torch.argmax(pred, dim=1) == y_batch).float()\n",
        "                accuracy_hist_valid[epoch] += is_correct.sum().cpu()\n",
        "\n",
        "        loss_hist_valid[epoch] /= len(valid_dl.dataset)\n",
        "        accuracy_hist_valid[epoch] /= len(valid_dl.dataset)\n",
        "\n",
        "        print(f'Epoch {epoch+1} accuracy: {accuracy_hist_train[epoch]:.4f} val_accuracy: {accuracy_hist_valid[epoch]:.4f}')\n",
        "    return loss_hist_train, loss_hist_valid, accuracy_hist_train, accuracy_hist_valid\n",
        "\n",
        "\n",
        "hist = train(model, num_epochs, train_loader, test_loader)"
      ],
      "metadata": {
        "is_executing": true,
        "ExecuteTime": {
          "start_time": "2023-07-16T13:06:28.297018500Z"
        },
        "id": "qaWtFvq5mxN6"
      }
    },
    {
      "cell_type": "code",
      "execution_count": null,
      "outputs": [],
      "source": [
        "# Plot\n",
        "x_arr = np.arange(len(hist[0])) + 1\n",
        "\n",
        "fig = plt.figure(figsize=(12, 4))\n",
        "ax = fig.add_subplot(1, 2, 1)\n",
        "ax.plot(x_arr, hist[0], '-o', label='Train loss')\n",
        "ax.plot(x_arr, hist[1], '--<', label='Validation loss')\n",
        "ax.set_xlabel('Epoch', size=15)\n",
        "ax.set_ylabel('Loss', size=15)\n",
        "ax.legend(fontsize=15)\n",
        "ax = fig.add_subplot(1, 2, 2)\n",
        "ax.plot(x_arr, hist[2], '-o', label='Train acc.')\n",
        "ax.plot(x_arr, hist[3], '--<', label='Validation acc.')\n",
        "\n",
        "ax.legend(fontsize=15)\n",
        "ax.set_xlabel('Epoch', size=15)\n",
        "ax.set_ylabel('Accuracy', size=15)\n",
        "\n",
        "plt.show()"
      ],
      "metadata": {
        "id": "kZ0vQi2AmxN8"
      }
    },
    {
      "cell_type": "code",
      "execution_count": null,
      "outputs": [
        {
          "output_type": "stream",
          "name": "stdout",
          "text": [
            "Test accuracy: 0.9896\n"
          ]
        }
      ],
      "source": [
        "# test and evaluate\n",
        "torch.cuda.synchronize()\n",
        "model_cpu = model.cpu()\n",
        "pred = model(mnist_test_dataset.data.unsqueeze(1) / 255.)\n",
        "is_correct = (torch.argmax(pred, dim=1) == mnist_test_dataset.targets).float()\n",
        "print(f'Test accuracy: {is_correct.mean():.4f}')"
      ],
      "metadata": {
        "colab": {
          "base_uri": "https://localhost:8080/"
        },
        "id": "WO-Im1N1mxN9",
        "outputId": "5635921f-efca-49df-c1cf-a2674f6d4b35"
      }
    },
    {
      "cell_type": "code",
      "execution_count": null,
      "outputs": [
        {
          "output_type": "display_data",
          "data": {
            "text/plain": [
              "<Figure size 1200x400 with 12 Axes>"
            ],
            "image/png": "[encoded data removed]"
          },
          "metadata": {}
        }
      ],
      "source": [
        "fig = plt.figure(figsize=(12, 4))\n",
        "for i in range(12):\n",
        "    ax = fig.add_subplot(2, 6, i+1)\n",
        "    ax.set_xticks([]); ax.set_yticks([])\n",
        "    img = mnist_test_dataset[i][0][0, :, :]\n",
        "    pred = model(img.unsqueeze(0).unsqueeze(1))\n",
        "    y_pred = torch.argmax(pred)\n",
        "    ax.imshow(img, cmap='gray_r')\n",
        "    ax.text(0.9, 0.1, y_pred.item(),\n",
        "            size=15, color='blue',\n",
        "            horizontalalignment='center',\n",
        "            verticalalignment='center',\n",
        "            transform=ax.transAxes)\n",
        "\n",
        "plt.show()"
      ],
      "metadata": {
        "colab": {
          "base_uri": "https://localhost:8080/",
          "height": 335
        },
        "id": "_e6fcSdPmxN9",
        "outputId": "2afd60b2-cad9-4d07-fa5c-4f84b77b1688"
      }
    },
    {
      "cell_type": "code",
      "source": [
        "fig = plt.figure(figsize=(12, 4))\n",
        "num_miss_match = 0\n",
        "for i in range(len(mnist_test_dataset)):\n",
        "    img = mnist_test_dataset[i][0][0, :, :]\n",
        "    pred = model(img.unsqueeze(0).unsqueeze(1))\n",
        "    y_pred = torch.argmax(pred)\n",
        "    if mnist_test_dataset[i][1] != y_pred.item():\n",
        "      num_miss_match += 1\n",
        "      ax = fig.add_subplot(5, 20, num_miss_match)\n",
        "      ax.set_xticks([]); ax.set_yticks([])\n",
        "      ax.imshow(img, cmap='gray_r')\n",
        "      ax.text(0.9, 0.1, y_pred.item(),\n",
        "              size=15, color='blue',\n",
        "              horizontalalignment='center',\n",
        "              verticalalignment='center',\n",
        "              transform=ax.transAxes)\n",
        "      ax.text(0.1, 0.1, mnist_test_dataset[i][1],\n",
        "              size=15, color='red',\n",
        "              horizontalalignment='center',\n",
        "              verticalalignment='center',\n",
        "              transform=ax.transAxes)\n",
        "plt.show()"
      ],
      "metadata": {
        "id": "jfJI3-nYqC_I"
      },
      "execution_count": null,
      "outputs": []
    }
  ],
  "metadata": {
    "kernelspec": {
      "display_name": "Python 3",
      "name": "python3"
    },
    "language_info": {
      "codemirror_mode": {
        "name": "ipython",
        "version": 2
      },
      "file_extension": ".py",
      "mimetype": "text/x-python",
      "name": "python",
      "nbconvert_exporter": "python",
      "pygments_lexer": "ipython2",
      "version": "2.7.6"
    },
    "colab": {
      "provenance": [],
      "gpuType": "T4",
      "include_colab_link": true
    },
    "accelerator": "GPU"
  },
  "nbformat": 4,
  "nbformat_minor": 0
}