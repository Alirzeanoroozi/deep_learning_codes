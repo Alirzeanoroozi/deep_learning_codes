{
  "nbformat": 4,
  "nbformat_minor": 0,
  "metadata": {
    "colab": {
      "provenance": [],
      "gpuType": "T4",
      "authorship_tag": "ABX9TyNqabV3QCKYAqB8afDp9vLF",
      "include_colab_link": true
    },
    "kernelspec": {
      "name": "python3",
      "display_name": "Python 3"
    },
    "language_info": {
      "name": "python"
    },
    "accelerator": "GPU"
  },
  "cells": [
    {
      "cell_type": "markdown",
      "metadata": {
        "id": "view-in-github",
        "colab_type": "text"
      },
      "source": [
        "<a href=\"https://colab.research.google.com/github/Alirzeanoroozi/deep_learning_codes/blob/main/new_Federate_Learning.ipynb\" target=\"_parent\"><img src=\"https://colab.research.google.com/assets/colab-badge.svg\" alt=\"Open In Colab\"/></a>"
      ]
    },
    {
      "cell_type": "code",
      "execution_count": 1,
      "metadata": {
        "id": "4BXQOPL_4nRR"
      },
      "outputs": [],
      "source": [
        "import torch\n",
        "from torchvision.datasets import MNIST\n",
        "from torch.utils.data import random_split, DataLoader\n",
        "import torchvision.transforms as transforms\n",
        "import matplotlib.pyplot as plt"
      ]
    },
    {
      "cell_type": "code",
      "source": [
        "train_dataset = MNIST('./', train=True, download=True, transform=transforms.ToTensor())\n",
        "test_dataset = MNIST('./', train=False, download=True, transform=transforms.ToTensor())\n",
        "\n",
        "train_dataset, dev_dataset = random_split(train_dataset, [int(len(train_dataset) * 0.83), int(len(train_dataset) * 0.17)])"
      ],
      "metadata": {
        "id": "qVQfvfBU4yuj"
      },
      "execution_count": 3,
      "outputs": []
    },
    {
      "cell_type": "code",
      "source": [
        "total_train_size = len(train_dataset)\n",
        "total_test_size = len(test_dataset)\n",
        "total_dev_size = len(dev_dataset)\n",
        "\n",
        "classes = 10\n",
        "input_dim = 784\n",
        "\n",
        "num_clients = 4\n",
        "rounds = 10\n",
        "batch_size = 128\n",
        "epochs_per_client = 3\n",
        "learning_rate = .001"
      ],
      "metadata": {
        "id": "0X8IqLLx5AAq"
      },
      "execution_count": 21,
      "outputs": []
    },
    {
      "cell_type": "code",
      "source": [
        "def to_device(data, device):\n",
        "  if isinstance(data, (list, tuple)):\n",
        "      return [to_device(x, device) for x in data]\n",
        "  return data.to(device, non_blocking=True)\n",
        "\n",
        "class DeviceDataLoader(DataLoader):\n",
        "  def __init__(self, dl, device):\n",
        "      self.dl = dl\n",
        "      self.device = device\n",
        "\n",
        "  def __iter__(self):\n",
        "      for batch in self.dl:\n",
        "          yield to_device(batch, self.device)\n",
        "\n",
        "  def __len__(self):\n",
        "      return len(self.dl)\n",
        "\n",
        "device = torch.device('cuda') if torch.cuda.is_available() else torch.device('cpu')"
      ],
      "metadata": {
        "id": "rLXEtrNN5aHl"
      },
      "execution_count": 22,
      "outputs": []
    },
    {
      "cell_type": "code",
      "source": [
        "class FederatedNet(torch.nn.Module):\n",
        "    def __init__(self):\n",
        "        super().__init__()\n",
        "        self.conv1 = torch.nn.Conv2d(1, 20, 7)\n",
        "        self.conv2 = torch.nn.Conv2d(20, 40, 7)\n",
        "        self.maxpool = torch.nn.MaxPool2d(2, 2)\n",
        "        self.flatten = torch.nn.Flatten()\n",
        "        self.linear = torch.nn.Linear(2560, 10)\n",
        "        self.non_linearity = torch.nn.functional.relu\n",
        "        self.track_layers = {'conv1': self.conv1, 'conv2': self.conv2, 'linear': self.linear}\n",
        "\n",
        "    def forward(self, x_batch):\n",
        "        out = self.conv1(x_batch)\n",
        "        out = self.non_linearity(out)\n",
        "        out = self.conv2(out)\n",
        "        out = self.non_linearity(out)\n",
        "        out = self.maxpool(out)\n",
        "        out = self.flatten(out)\n",
        "        out = self.linear(out)\n",
        "        return out\n",
        "\n",
        "    def apply_parameters(self, parameters_dict):\n",
        "        with torch.no_grad():\n",
        "            for layer_name in parameters_dict:\n",
        "                self.track_layers[layer_name].weight.data = parameters_dict[layer_name]['weight']\n",
        "                self.track_layers[layer_name].bias.data = parameters_dict[layer_name]['bias']\n",
        "\n",
        "    def get_parameters(self):\n",
        "        parameters_dict = dict()\n",
        "        for layer_name in self.track_layers:\n",
        "            parameters_dict[layer_name] = {\n",
        "                'weight': self.track_layers[layer_name].weight.data,\n",
        "                'bias': self.track_layers[layer_name].bias.data\n",
        "            }\n",
        "        return parameters_dict\n",
        "\n",
        "    def fit(self, dataset, epochs, lr, batch_size=128, opt=torch.optim.SGD):\n",
        "        dataloader = DeviceDataLoader(DataLoader(dataset, batch_size, shuffle=True), device)\n",
        "        optimizer = opt(self.parameters(), lr)\n",
        "\n",
        "        history = []\n",
        "        for epoch in range(epochs):\n",
        "            losses = []\n",
        "            accs = []\n",
        "            for batch in dataloader:\n",
        "                images, labels = batch\n",
        "                outputs = self(images)\n",
        "                loss = torch.nn.functional.cross_entropy(outputs, labels)\n",
        "                with torch.no_grad():\n",
        "                    _, predictions = torch.max(outputs, dim=1)\n",
        "                    acc = torch.tensor(torch.sum(predictions == labels).item() / len(predictions))\n",
        "\n",
        "                loss.backward()\n",
        "                optimizer.step()\n",
        "                optimizer.zero_grad()\n",
        "                loss.detach()\n",
        "\n",
        "                losses.append(loss)\n",
        "                accs.append(acc)\n",
        "\n",
        "            avg_loss = torch.stack(losses).mean().item()\n",
        "            avg_acc = torch.stack(accs).mean().item()\n",
        "            history.append((avg_loss, avg_acc))\n",
        "        return history\n",
        "\n",
        "    def evaluate(self, dataset, batch_size=128):\n",
        "        dataloader = DeviceDataLoader(DataLoader(dataset, batch_size), device)\n",
        "        losses = []\n",
        "        accs = []\n",
        "        with torch.no_grad():\n",
        "            for batch in dataloader:\n",
        "\n",
        "                images, labels = batch\n",
        "                outputs = self(images)\n",
        "                loss = torch.nn.functional.cross_entropy(outputs, labels)\n",
        "                with torch.no_grad():\n",
        "                    _, predictions = torch.max(outputs, dim=1)\n",
        "                    acc = torch.tensor(torch.sum(predictions == labels).item() / len(predictions))\n",
        "\n",
        "                losses.append(loss)\n",
        "                accs.append(acc)\n",
        "\n",
        "        avg_loss = torch.stack(losses).mean().item()\n",
        "        avg_acc = torch.stack(accs).mean().item()\n",
        "        return (avg_loss, avg_acc)"
      ],
      "metadata": {
        "id": "5xd4x1vG7eC5"
      },
      "execution_count": 23,
      "outputs": []
    },
    {
      "cell_type": "code",
      "source": [
        "class Client:\n",
        "    def __init__(self, client_id, dataset):\n",
        "        self.client_id = client_id\n",
        "        self.dataset = dataset\n",
        "        self.net = to_device(FederatedNet(), device)\n",
        "\n",
        "    def update_parameters(self, parameters_dict):\n",
        "        self.net.apply_parameters(parameters_dict)\n",
        "        train_history = self.net.fit(self.dataset, epochs_per_client, learning_rate, batch_size)\n",
        "        print('{}: Loss = {}, Accuracy = {}'.format(self.client_id, round(train_history[-1][0], 4), round(train_history[-1][1], 4)))\n",
        "        return self.net.get_parameters()\n",
        "\n",
        "    def evaluate(self, dataset, batch_size=128):\n",
        "        dataloader = DeviceDataLoader(DataLoader(dataset, batch_size), device)\n",
        "        losses = []\n",
        "        accs = []\n",
        "        with torch.no_grad():\n",
        "            for batch in dataloader:\n",
        "\n",
        "                images, labels = batch\n",
        "                outputs = self.net(images)\n",
        "                loss = torch.nn.functional.cross_entropy(outputs, labels)\n",
        "                with torch.no_grad():\n",
        "                    _, predictions = torch.max(outputs, dim=1)\n",
        "                    acc = torch.tensor(torch.sum(predictions == labels).item() / len(predictions))\n",
        "\n",
        "                losses.append(loss)\n",
        "                accs.append(acc)\n",
        "\n",
        "        avg_loss = torch.stack(losses).mean().item()\n",
        "        avg_acc = torch.stack(accs).mean().item()\n",
        "        return (avg_loss, avg_acc)"
      ],
      "metadata": {
        "id": "wxYKHGnH9VrH"
      },
      "execution_count": 24,
      "outputs": []
    },
    {
      "cell_type": "code",
      "source": [
        "examples_per_client = total_train_size // num_clients\n",
        "client_datasets = random_split(train_dataset, [min(i + examples_per_client, total_train_size) - i for i in range(0, total_train_size, examples_per_client)])\n",
        "clients = [Client('client_' + str(i), client_datasets[i]) for i in range(num_clients)]"
      ],
      "metadata": {
        "id": "QddWTl079a5S"
      },
      "execution_count": 25,
      "outputs": []
    },
    {
      "cell_type": "code",
      "source": [
        "global_net = to_device(FederatedNet(), device)\n",
        "\n",
        "history = []\n",
        "for i in range(rounds):\n",
        "    print('Start Round {} ...'.format(i + 1))\n",
        "    curr_parameters = global_net.get_parameters()\n",
        "    new_parameters = dict([(layer_name, {'weight': 0, 'bias': 0}) for layer_name in curr_parameters])\n",
        "\n",
        "    parameters_and_weights = [(client.update_parameters(curr_parameters), client.evaluate(dev_dataset)[0]) for client in clients]\n",
        "    w_sum = 0\n",
        "    for w in parameters_and_weights:\n",
        "      w_sum += (1 / w[1])\n",
        "\n",
        "    for client_parameters, fraction in parameters_and_weights:\n",
        "        for layer_name in client_parameters:\n",
        "                new_parameters[layer_name]['weight'] += (1 / fraction) * (1 / w_sum) * client_parameters[layer_name]['weight']\n",
        "                new_parameters[layer_name]['bias'] += (1 / fraction) * (1 / w_sum) * client_parameters[layer_name]['bias']\n",
        "\n",
        "    global_net.apply_parameters(new_parameters)\n",
        "\n",
        "    train_loss, train_acc = global_net.evaluate(train_dataset)\n",
        "    dev_loss, dev_acc = global_net.evaluate(dev_dataset)\n",
        "    print('After round {}, train_loss = {}, dev_loss = {}, dev_acc = {}\\n'.format(i + 1, round(train_loss, 4), round(dev_loss, 4), round(dev_acc, 4)))\n",
        "    history.append((train_loss, dev_loss))"
      ],
      "metadata": {
        "colab": {
          "base_uri": "https://localhost:8080/"
        },
        "id": "BUaEmWah9d3K",
        "outputId": "bfbbd02e-06f6-4b80-bca2-c76216ff3edd"
      },
      "execution_count": 26,
      "outputs": [
        {
          "output_type": "stream",
          "name": "stdout",
          "text": [
            "Start Round 1 ...\n",
            "client_0: Loss = 2.2314, Accuracy = 0.4529\n",
            "client_1: Loss = 2.0011, Accuracy = 0.7244\n",
            "client_2: Loss = 1.2067, Accuracy = 0.768\n",
            "client_3: Loss = 0.659, Accuracy = 0.8339\n",
            "After round 1, train_loss = 0.6242, dev_loss = 0.6211, dev_acc = 0.8429\n",
            "\n",
            "Start Round 2 ...\n",
            "client_0: Loss = 0.5135, Accuracy = 0.863\n",
            "client_1: Loss = 0.4651, Accuracy = 0.8675\n",
            "client_2: Loss = 0.4362, Accuracy = 0.8762\n",
            "client_3: Loss = 0.4054, Accuracy = 0.8826\n",
            "After round 2, train_loss = 0.4066, dev_loss = 0.3963, dev_acc = 0.8871\n",
            "\n",
            "Start Round 3 ...\n",
            "client_0: Loss = 0.3944, Accuracy = 0.8867\n",
            "client_1: Loss = 0.3871, Accuracy = 0.8844\n",
            "client_2: Loss = 0.3755, Accuracy = 0.8923\n",
            "client_3: Loss = 0.3568, Accuracy = 0.8948\n",
            "After round 3, train_loss = 0.3647, dev_loss = 0.3532, dev_acc = 0.8996\n",
            "\n",
            "Start Round 4 ...\n",
            "client_0: Loss = 0.3488, Accuracy = 0.9013\n",
            "client_1: Loss = 0.3467, Accuracy = 0.896\n",
            "client_2: Loss = 0.341, Accuracy = 0.9024\n",
            "client_3: Loss = 0.3244, Accuracy = 0.9043\n",
            "After round 4, train_loss = 0.3317, dev_loss = 0.322, dev_acc = 0.9069\n",
            "\n",
            "Start Round 5 ...\n",
            "client_0: Loss = 0.3189, Accuracy = 0.9094\n",
            "client_1: Loss = 0.3153, Accuracy = 0.9077\n",
            "client_2: Loss = 0.3092, Accuracy = 0.9129\n",
            "client_3: Loss = 0.2957, Accuracy = 0.9123\n",
            "After round 5, train_loss = 0.3008, dev_loss = 0.2914, dev_acc = 0.9158\n",
            "\n",
            "Start Round 6 ...\n",
            "client_0: Loss = 0.2903, Accuracy = 0.9182\n",
            "client_1: Loss = 0.2887, Accuracy = 0.9166\n",
            "client_2: Loss = 0.283, Accuracy = 0.9201\n",
            "client_3: Loss = 0.2674, Accuracy = 0.9203\n",
            "After round 6, train_loss = 0.2789, dev_loss = 0.2704, dev_acc = 0.9228\n",
            "\n",
            "Start Round 7 ...\n",
            "client_0: Loss = 0.2681, Accuracy = 0.9257\n",
            "client_1: Loss = 0.2632, Accuracy = 0.9229\n",
            "client_2: Loss = 0.2596, Accuracy = 0.9254\n",
            "client_3: Loss = 0.2443, Accuracy = 0.9274\n",
            "After round 7, train_loss = 0.2513, dev_loss = 0.2443, dev_acc = 0.9305\n",
            "\n",
            "Start Round 8 ...\n",
            "client_0: Loss = 0.2433, Accuracy = 0.932\n",
            "client_1: Loss = 0.2391, Accuracy = 0.9303\n",
            "client_2: Loss = 0.2373, Accuracy = 0.9323\n",
            "client_3: Loss = 0.2238, Accuracy = 0.9343\n",
            "After round 8, train_loss = 0.2306, dev_loss = 0.2238, dev_acc = 0.9366\n",
            "\n",
            "Start Round 9 ...\n",
            "client_0: Loss = 0.2253, Accuracy = 0.9361\n",
            "client_1: Loss = 0.2176, Accuracy = 0.9361\n",
            "client_2: Loss = 0.2183, Accuracy = 0.9393\n",
            "client_3: Loss = 0.206, Accuracy = 0.9403\n",
            "After round 9, train_loss = 0.2117, dev_loss = 0.2074, dev_acc = 0.9386\n",
            "\n",
            "Start Round 10 ...\n",
            "client_0: Loss = 0.2074, Accuracy = 0.942\n",
            "client_1: Loss = 0.1993, Accuracy = 0.9421\n",
            "client_2: Loss = 0.2009, Accuracy = 0.9448\n",
            "client_3: Loss = 0.1884, Accuracy = 0.9459\n",
            "After round 10, train_loss = 0.1956, dev_loss = 0.1925, dev_acc = 0.944\n",
            "\n"
          ]
        }
      ]
    },
    {
      "cell_type": "code",
      "source": [
        "plt.plot([i + 1 for i in range(len(history))], [history[i][0] for i in range(len(history))], color='r', label='train loss')\n",
        "plt.plot([i + 1 for i in range(len(history))], [history[i][1] for i in range(len(history))], color='b', label='dev loss')\n",
        "plt.legend()\n",
        "plt.title('Training history')\n",
        "plt.show()"
      ],
      "metadata": {
        "colab": {
          "base_uri": "https://localhost:8080/",
          "height": 452
        },
        "id": "KtENNba3BOgM",
        "outputId": "10d22d0b-4097-4d69-b9ef-f87d30fd1762"
      },
      "execution_count": 27,
      "outputs": [
        {
          "output_type": "display_data",
          "data": {
            "text/plain": [
              "<Figure size 640x480 with 1 Axes>"
            ],
            "image/png": "[encoded data removed]"
          },
          "metadata": {}
        }
      ]
    },
    {
      "cell_type": "code",
      "source": [
        "test_loss, test_acc = global_net.evaluate(test_dataset)\n",
        "test_acc"
      ],
      "metadata": {
        "id": "THFSIHFc3zQY",
        "outputId": "13d62f0c-5158-44a6-9a1a-8d9a6b66df1e",
        "colab": {
          "base_uri": "https://localhost:8080/"
        }
      },
      "execution_count": 28,
      "outputs": [
        {
          "output_type": "execute_result",
          "data": {
            "text/plain": [
              "0.9488726258277893"
            ]
          },
          "metadata": {},
          "execution_count": 28
        }
      ]
    },
    {
      "cell_type": "code",
      "source": [
        "global_net = to_device(FederatedNet(), device)\n",
        "history = []\n",
        "for i in range(rounds):\n",
        "    print('Start Round {} ...'.format(i + 1))\n",
        "    curr_parameters = global_net.get_parameters()\n",
        "    new_parameters = dict([(layer_name, {'weight': 0, 'bias': 0}) for layer_name in curr_parameters])\n",
        "    r = torch.randn(8)\n",
        "    fractions = [ i/sum(r) for i in r ]\n",
        "    for client, fraction in zip(clients, fractions):\n",
        "        client_parameters = client.train(curr_parameters)\n",
        "        for layer_name in client_parameters:\n",
        "            new_parameters[layer_name]['weight'] += fraction * client_parameters[layer_name]['weight']\n",
        "            new_parameters[layer_name]['bias'] += fraction * client_parameters[layer_name]['bias']\n",
        "    global_net.apply_parameters(new_parameters)\n",
        "\n",
        "    train_loss, train_acc = global_net.evaluate(train_dataset)\n",
        "    dev_loss, dev_acc = global_net.evaluate(dev_dataset)\n",
        "    print('After round {}, train_loss = {}, dev_loss = {}, dev_acc = {}\\n'.format(i + 1, round(train_loss, 4),\n",
        "            round(dev_loss, 4), round(dev_acc, 4)))\n",
        "    history.append((train_loss, dev_loss))"
      ],
      "metadata": {
        "colab": {
          "base_uri": "https://localhost:8080/"
        },
        "id": "sRorPd-gBPRL",
        "outputId": "e5c84562-b796-4b6d-8561-1655d13253e3"
      },
      "execution_count": null,
      "outputs": [
        {
          "output_type": "stream",
          "name": "stdout",
          "text": [
            "Start Round 1 ...\n",
            "client_0: Loss = 2.2788, Accuracy = 0.188\n",
            "client_1: Loss = 2.2392, Accuracy = 0.481\n",
            "client_2: Loss = 2.1801, Accuracy = 0.6002\n",
            "client_3: Loss = 2.0606, Accuracy = 0.6273\n",
            "client_4: Loss = 1.8502, Accuracy = 0.6607\n",
            "client_5: Loss = 1.4993, Accuracy = 0.7102\n",
            "client_6: Loss = 1.1246, Accuracy = 0.7599\n",
            "client_7: Loss = 0.863, Accuracy = 0.7957\n",
            "After round 1, train_loss = 2.2982, dev_loss = 2.2976, dev_acc = 0.1483\n",
            "\n",
            "Start Round 2 ...\n",
            "client_0: Loss = 2.2916, Accuracy = 0.2052\n",
            "client_1: Loss = 2.2814, Accuracy = 0.2488\n",
            "client_2: Loss = 2.2694, Accuracy = 0.2695\n",
            "client_3: Loss = 2.2524, Accuracy = 0.32\n",
            "client_4: Loss = 2.2332, Accuracy = 0.3599\n",
            "client_5: Loss = 2.2032, Accuracy = 0.3897\n",
            "client_6: Loss = 2.1551, Accuracy = 0.4088\n",
            "client_7: Loss = 2.0805, Accuracy = 0.4247\n",
            "After round 2, train_loss = 2.2577, dev_loss = 2.2571, dev_acc = 0.3394\n",
            "\n",
            "Start Round 3 ...\n",
            "client_0: Loss = 2.2397, Accuracy = 0.3614\n",
            "client_1: Loss = 2.21, Accuracy = 0.3775\n",
            "client_2: Loss = 2.1693, Accuracy = 0.3916\n",
            "client_3: Loss = 2.0989, Accuracy = 0.4369\n",
            "client_4: Loss = 1.9995, Accuracy = 0.4717\n",
            "client_5: Loss = 1.8423, Accuracy = 0.5235\n",
            "client_6: Loss = 1.6226, Accuracy = 0.5983\n",
            "client_7: Loss = 1.3694, Accuracy = 0.6892\n",
            "After round 3, train_loss = 2.3008, dev_loss = 2.3005, dev_acc = 0.115\n",
            "\n",
            "Start Round 4 ...\n",
            "client_0: Loss = 2.2988, Accuracy = 0.111\n",
            "client_1: Loss = 2.2973, Accuracy = 0.1151\n",
            "client_2: Loss = 2.2967, Accuracy = 0.1151\n",
            "client_3: Loss = 2.294, Accuracy = 0.1098\n",
            "client_4: Loss = 2.2934, Accuracy = 0.1072\n",
            "client_5: Loss = 2.2912, Accuracy = 0.1079\n",
            "client_6: Loss = 2.2883, Accuracy = 0.113\n",
            "client_7: Loss = 2.2853, Accuracy = 0.1156\n",
            "After round 4, train_loss = 2.2905, dev_loss = 2.2902, dev_acc = 0.115\n",
            "\n",
            "Start Round 5 ...\n",
            "client_0: Loss = 2.2876, Accuracy = 0.1113\n",
            "client_1: Loss = 2.285, Accuracy = 0.115\n",
            "client_2: Loss = 2.2832, Accuracy = 0.1155\n",
            "client_3: Loss = 2.2789, Accuracy = 0.1101\n",
            "client_4: Loss = 2.2762, Accuracy = 0.111\n",
            "client_5: Loss = 2.2711, Accuracy = 0.1274\n",
            "client_6: Loss = 2.2644, Accuracy = 0.1432\n",
            "client_7: Loss = 2.256, Accuracy = 0.1535\n",
            "After round 5, train_loss = 2.3048, dev_loss = 2.3046, dev_acc = 0.115\n",
            "\n"
          ]
        }
      ]
    },
    {
      "cell_type": "code",
      "source": [
        "plt.plot([i + 1 for i in range(len(history))], [history[i][0] for i in range(len(history))], color='r', label='train loss')\n",
        "plt.plot([i + 1 for i in range(len(history))], [history[i][1] for i in range(len(history))], color='b', label='dev loss')\n",
        "plt.legend()\n",
        "plt.title('Training history')\n",
        "plt.show()"
      ],
      "metadata": {
        "id": "8b3QI32b2u6f",
        "outputId": "889fd9f1-0996-463e-b62d-c15ca8b0edf3",
        "colab": {
          "base_uri": "https://localhost:8080/",
          "height": 452
        }
      },
      "execution_count": null,
      "outputs": [
        {
          "output_type": "display_data",
          "data": {
            "text/plain": [
              "<Figure size 640x480 with 1 Axes>"
            ],
            "image/png": "[encoded data removed]"
          },
          "metadata": {}
        }
      ]
    }
  ]
}