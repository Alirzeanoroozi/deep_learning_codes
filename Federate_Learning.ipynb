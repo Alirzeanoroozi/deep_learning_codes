{
  "nbformat": 4,
  "nbformat_minor": 0,
  "metadata": {
    "colab": {
      "provenance": [],
      "gpuType": "T4",
      "authorship_tag": "ABX9TyMLqu0m3YyC+xbh2HX4rJvd",
      "include_colab_link": true
    },
    "kernelspec": {
      "name": "python3",
      "display_name": "Python 3"
    },
    "language_info": {
      "name": "python"
    },
    "accelerator": "GPU"
  },
  "cells": [
    {
      "cell_type": "markdown",
      "metadata": {
        "id": "view-in-github",
        "colab_type": "text"
      },
      "source": [
        "<a href=\"https://colab.research.google.com/github/Alirzeanoroozi/deep_learning_codes/blob/main/Federate_Learning.ipynb\" target=\"_parent\"><img src=\"https://colab.research.google.com/assets/colab-badge.svg\" alt=\"Open In Colab\"/></a>"
      ]
    },
    {
      "cell_type": "code",
      "execution_count": 1,
      "metadata": {
        "id": "4BXQOPL_4nRR"
      },
      "outputs": [],
      "source": [
        "import torch\n",
        "from torchvision.datasets import MNIST\n",
        "from torch.utils.data import random_split, DataLoader\n",
        "import torchvision.transforms as transforms\n",
        "import matplotlib.pyplot as plt"
      ]
    },
    {
      "cell_type": "code",
      "source": [
        "train_dataset = MNIST('./', train=True, download=True, transform=transforms.ToTensor())\n",
        "test_dataset = MNIST('./', train=False, download=True, transform=transforms.ToTensor())\n",
        "\n",
        "train_dataset, dev_dataset = random_split(train_dataset, [int(len(train_dataset) * 0.83), int(len(train_dataset) * 0.17)])"
      ],
      "metadata": {
        "colab": {
          "base_uri": "https://localhost:8080/"
        },
        "id": "qVQfvfBU4yuj",
        "outputId": "3b8649e0-ac9e-4d65-f8f7-24f4a0229c46"
      },
      "execution_count": 2,
      "outputs": [
        {
          "output_type": "stream",
          "name": "stdout",
          "text": [
            "Downloading http://yann.lecun.com/exdb/mnist/train-images-idx3-ubyte.gz\n",
            "Downloading http://yann.lecun.com/exdb/mnist/train-images-idx3-ubyte.gz to ./MNIST/raw/train-images-idx3-ubyte.gz\n"
          ]
        },
        {
          "output_type": "stream",
          "name": "stderr",
          "text": [
            "100%|██████████| 9912422/9912422 [00:00<00:00, 208154360.75it/s]"
          ]
        },
        {
          "output_type": "stream",
          "name": "stdout",
          "text": [
            "Extracting ./MNIST/raw/train-images-idx3-ubyte.gz to ./MNIST/raw\n"
          ]
        },
        {
          "output_type": "stream",
          "name": "stderr",
          "text": [
            "\n"
          ]
        },
        {
          "output_type": "stream",
          "name": "stdout",
          "text": [
            "\n",
            "Downloading http://yann.lecun.com/exdb/mnist/train-labels-idx1-ubyte.gz\n",
            "Downloading http://yann.lecun.com/exdb/mnist/train-labels-idx1-ubyte.gz to ./MNIST/raw/train-labels-idx1-ubyte.gz\n"
          ]
        },
        {
          "output_type": "stream",
          "name": "stderr",
          "text": [
            "100%|██████████| 28881/28881 [00:00<00:00, 106446128.14it/s]\n"
          ]
        },
        {
          "output_type": "stream",
          "name": "stdout",
          "text": [
            "Extracting ./MNIST/raw/train-labels-idx1-ubyte.gz to ./MNIST/raw\n",
            "\n",
            "Downloading http://yann.lecun.com/exdb/mnist/t10k-images-idx3-ubyte.gz\n",
            "Downloading http://yann.lecun.com/exdb/mnist/t10k-images-idx3-ubyte.gz to ./MNIST/raw/t10k-images-idx3-ubyte.gz\n"
          ]
        },
        {
          "output_type": "stream",
          "name": "stderr",
          "text": [
            "100%|██████████| 1648877/1648877 [00:00<00:00, 69688546.92it/s]"
          ]
        },
        {
          "output_type": "stream",
          "name": "stdout",
          "text": [
            "Extracting ./MNIST/raw/t10k-images-idx3-ubyte.gz to ./MNIST/raw\n",
            "\n",
            "Downloading http://yann.lecun.com/exdb/mnist/t10k-labels-idx1-ubyte.gz\n"
          ]
        },
        {
          "output_type": "stream",
          "name": "stderr",
          "text": [
            "\n"
          ]
        },
        {
          "output_type": "stream",
          "name": "stdout",
          "text": [
            "Downloading http://yann.lecun.com/exdb/mnist/t10k-labels-idx1-ubyte.gz to ./MNIST/raw/t10k-labels-idx1-ubyte.gz\n"
          ]
        },
        {
          "output_type": "stream",
          "name": "stderr",
          "text": [
            "100%|██████████| 4542/4542 [00:00<00:00, 21697640.97it/s]"
          ]
        },
        {
          "output_type": "stream",
          "name": "stdout",
          "text": [
            "Extracting ./MNIST/raw/t10k-labels-idx1-ubyte.gz to ./MNIST/raw\n",
            "\n"
          ]
        },
        {
          "output_type": "stream",
          "name": "stderr",
          "text": [
            "\n"
          ]
        }
      ]
    },
    {
      "cell_type": "code",
      "source": [
        "total_train_size = len(train_dataset)\n",
        "total_test_size = len(test_dataset)\n",
        "total_dev_size = len(dev_dataset)\n",
        "\n",
        "classes = 10\n",
        "input_dim = 784\n",
        "\n",
        "num_clients = 8\n",
        "rounds = 5\n",
        "batch_size = 128\n",
        "epochs_per_client = 3\n",
        "learning_rate = .001"
      ],
      "metadata": {
        "id": "0X8IqLLx5AAq"
      },
      "execution_count": 6,
      "outputs": []
    },
    {
      "cell_type": "code",
      "source": [
        "def to_device(data, device):\n",
        "  if isinstance(data, (list, tuple)):\n",
        "      return [to_device(x, device) for x in data]\n",
        "  return data.to(device, non_blocking=True)\n",
        "\n",
        "class DeviceDataLoader(DataLoader):\n",
        "  def __init__(self, dl, device):\n",
        "      self.dl = dl\n",
        "      self.device = device\n",
        "\n",
        "  def __iter__(self):\n",
        "      for batch in self.dl:\n",
        "          yield to_device(batch, self.device)\n",
        "\n",
        "  def __len__(self):\n",
        "      return len(self.dl)\n",
        "\n",
        "device = torch.device('cuda') if torch.cuda.is_available() else torch.device('cpu')"
      ],
      "metadata": {
        "id": "rLXEtrNN5aHl"
      },
      "execution_count": 7,
      "outputs": []
    },
    {
      "cell_type": "code",
      "source": [
        "class FederatedNet(torch.nn.Module):\n",
        "    def __init__(self):\n",
        "        super().__init__()\n",
        "        self.conv1 = torch.nn.Conv2d(1, 20, 7)\n",
        "        self.conv2 = torch.nn.Conv2d(20, 40, 7)\n",
        "        self.maxpool = torch.nn.MaxPool2d(2, 2)\n",
        "        self.flatten = torch.nn.Flatten()\n",
        "        self.linear = torch.nn.Linear(2560, 10)\n",
        "        self.non_linearity = torch.nn.functional.relu\n",
        "        self.track_layers = {'conv1': self.conv1, 'conv2': self.conv2, 'linear': self.linear}\n",
        "\n",
        "    def forward(self, x_batch):\n",
        "        out = self.conv1(x_batch)\n",
        "        out = self.non_linearity(out)\n",
        "        out = self.conv2(out)\n",
        "        out = self.non_linearity(out)\n",
        "        out = self.maxpool(out)\n",
        "        out = self.flatten(out)\n",
        "        out = self.linear(out)\n",
        "        return out\n",
        "\n",
        "    def get_track_layers(self):\n",
        "        return self.track_layers\n",
        "\n",
        "    def apply_parameters(self, parameters_dict):\n",
        "        with torch.no_grad():\n",
        "            for layer_name in parameters_dict:\n",
        "                # self.track_layers[layer_name].weight.data *= 0\n",
        "                # self.track_layers[layer_name].bias.data *= 0\n",
        "                # self.track_layers[layer_name].weight.data += parameters_dict[layer_name]['weight']\n",
        "                # self.track_layers[layer_name].bias.data += parameters_dict[layer_name]['bias']\n",
        "                self.track_layers[layer_name].weight.data = parameters_dict[layer_name]['weight']\n",
        "                self.track_layers[layer_name].bias.data = parameters_dict[layer_name]['bias']\n",
        "\n",
        "    def get_parameters(self):\n",
        "        parameters_dict = dict()\n",
        "        for layer_name in self.track_layers:\n",
        "            parameters_dict[layer_name] = {\n",
        "                'weight': self.track_layers[layer_name].weight.data,\n",
        "                'bias': self.track_layers[layer_name].bias.data\n",
        "            }\n",
        "        return parameters_dict\n",
        "\n",
        "    def batch_accuracy(self, outputs, labels):\n",
        "        with torch.no_grad():\n",
        "            _, predictions = torch.max(outputs, dim=1)\n",
        "            return torch.tensor(torch.sum(predictions == labels).item() / len(predictions))\n",
        "\n",
        "    def _process_batch(self, batch):\n",
        "        images, labels = batch\n",
        "        outputs = self(images)\n",
        "        loss = torch.nn.functional.cross_entropy(outputs, labels)\n",
        "        accuracy = self.batch_accuracy(outputs, labels)\n",
        "        return (loss, accuracy)\n",
        "\n",
        "    def fit(self, dataset, epochs, lr, batch_size=128, opt=torch.optim.SGD):\n",
        "        dataloader = DeviceDataLoader(DataLoader(dataset, batch_size, shuffle=True), device)\n",
        "        optimizer = opt(self.parameters(), lr)\n",
        "        history = []\n",
        "        for epoch in range(epochs):\n",
        "            losses = []\n",
        "            accs = []\n",
        "            for batch in dataloader:\n",
        "                loss, acc = self._process_batch(batch)\n",
        "                loss.backward()\n",
        "                optimizer.step()\n",
        "                optimizer.zero_grad()\n",
        "                loss.detach()\n",
        "                losses.append(loss)\n",
        "                accs.append(acc)\n",
        "            avg_loss = torch.stack(losses).mean().item()\n",
        "            avg_acc = torch.stack(accs).mean().item()\n",
        "            history.append((avg_loss, avg_acc))\n",
        "        return history\n",
        "\n",
        "    def evaluate(self, dataset, batch_size=128):\n",
        "        dataloader = DeviceDataLoader(DataLoader(dataset, batch_size), device)\n",
        "        losses = []\n",
        "        accs = []\n",
        "        with torch.no_grad():\n",
        "            for batch in dataloader:\n",
        "                loss, acc = self._process_batch(batch)\n",
        "                losses.append(loss)\n",
        "                accs.append(acc)\n",
        "        avg_loss = torch.stack(losses).mean().item()\n",
        "        avg_acc = torch.stack(accs).mean().item()\n",
        "        return (avg_loss, avg_acc)"
      ],
      "metadata": {
        "id": "5xd4x1vG7eC5"
      },
      "execution_count": 8,
      "outputs": []
    },
    {
      "cell_type": "code",
      "source": [
        "class Client:\n",
        "    def __init__(self, client_id, dataset):\n",
        "        self.client_id = client_id\n",
        "        self.dataset = dataset\n",
        "\n",
        "    def get_dataset_size(self):\n",
        "        return len(self.dataset)\n",
        "\n",
        "    def get_client_id(self):\n",
        "        return self.client_id\n",
        "\n",
        "    def train(self, parameters_dict):\n",
        "        net = to_device(FederatedNet(), device)\n",
        "        net.apply_parameters(parameters_dict)\n",
        "        train_history = net.fit(self.dataset, epochs_per_client, learning_rate, batch_size)\n",
        "        print('{}: Loss = {}, Accuracy = {}'.format(self.client_id, round(train_history[-1][0], 4), round(train_history[-1][1], 4)))\n",
        "        return net.get_parameters()"
      ],
      "metadata": {
        "id": "wxYKHGnH9VrH"
      },
      "execution_count": 9,
      "outputs": []
    },
    {
      "cell_type": "code",
      "source": [
        "examples_per_client = total_train_size // num_clients\n",
        "client_datasets = random_split(train_dataset, [min(i + examples_per_client,\n",
        "           total_train_size) - i for i in range(0, total_train_size, examples_per_client)])\n",
        "clients = [Client('client_' + str(i), client_datasets[i]) for i in range(num_clients)]"
      ],
      "metadata": {
        "id": "QddWTl079a5S"
      },
      "execution_count": 10,
      "outputs": []
    },
    {
      "cell_type": "code",
      "source": [
        "global_net = to_device(FederatedNet(), device)\n",
        "history = []\n",
        "for i in range(rounds):\n",
        "    print('Start Round {} ...'.format(i + 1))\n",
        "    curr_parameters = global_net.get_parameters()\n",
        "    new_parameters = dict([(layer_name, {'weight': 0, 'bias': 0}) for layer_name in curr_parameters])\n",
        "    for client in clients:\n",
        "        client_parameters = client.train(curr_parameters)\n",
        "        fraction = client.get_dataset_size() / total_train_size\n",
        "        for layer_name in client_parameters:\n",
        "            new_parameters[layer_name]['weight'] += fraction * client_parameters[layer_name]['weight']\n",
        "            new_parameters[layer_name]['bias'] += fraction * client_parameters[layer_name]['bias']\n",
        "    global_net.apply_parameters(new_parameters)\n",
        "\n",
        "    train_loss, train_acc = global_net.evaluate(train_dataset)\n",
        "    dev_loss, dev_acc = global_net.evaluate(dev_dataset)\n",
        "    print('After round {}, train_loss = {}, dev_loss = {}, dev_acc = {}\\n'.format(i + 1, round(train_loss, 4),\n",
        "            round(dev_loss, 4), round(dev_acc, 4)))\n",
        "    history.append((train_loss, dev_loss))"
      ],
      "metadata": {
        "colab": {
          "base_uri": "https://localhost:8080/"
        },
        "id": "BUaEmWah9d3K",
        "outputId": "ebd59ec7-432c-4bcc-a2b6-c2ac4d41edd6"
      },
      "execution_count": 11,
      "outputs": [
        {
          "output_type": "stream",
          "name": "stdout",
          "text": [
            "Start Round 1 ...\n",
            "client_0: Loss = 2.2768, Accuracy = 0.1932\n",
            "client_1: Loss = 2.2456, Accuracy = 0.4144\n",
            "client_2: Loss = 2.1968, Accuracy = 0.5437\n",
            "client_3: Loss = 2.0881, Accuracy = 0.6684\n",
            "client_4: Loss = 1.882, Accuracy = 0.6907\n",
            "client_5: Loss = 1.4816, Accuracy = 0.7441\n",
            "client_6: Loss = 1.0462, Accuracy = 0.7803\n",
            "client_7: Loss = 0.7899, Accuracy = 0.8054\n",
            "After round 1, train_loss = 1.8207, dev_loss = 1.8215, dev_acc = 0.7434\n",
            "\n",
            "Start Round 2 ...\n",
            "client_0: Loss = 1.4498, Accuracy = 0.7527\n",
            "client_1: Loss = 0.9896, Accuracy = 0.7933\n",
            "client_2: Loss = 0.7462, Accuracy = 0.8209\n",
            "client_3: Loss = 0.6168, Accuracy = 0.8416\n",
            "client_4: Loss = 0.5523, Accuracy = 0.8486\n",
            "client_5: Loss = 0.5136, Accuracy = 0.857\n",
            "client_6: Loss = 0.4982, Accuracy = 0.8597\n",
            "client_7: Loss = 0.4857, Accuracy = 0.8615\n",
            "After round 2, train_loss = 0.6333, dev_loss = 0.6393, dev_acc = 0.8389\n",
            "\n",
            "Start Round 3 ...\n",
            "client_0: Loss = 0.5831, Accuracy = 0.8513\n",
            "client_1: Loss = 0.5132, Accuracy = 0.8541\n",
            "client_2: Loss = 0.4833, Accuracy = 0.866\n",
            "client_3: Loss = 0.4558, Accuracy = 0.8714\n",
            "client_4: Loss = 0.4382, Accuracy = 0.875\n",
            "client_5: Loss = 0.4282, Accuracy = 0.8763\n",
            "client_6: Loss = 0.4333, Accuracy = 0.8794\n",
            "client_7: Loss = 0.4305, Accuracy = 0.8762\n",
            "After round 3, train_loss = 0.4584, dev_loss = 0.4677, dev_acc = 0.8638\n",
            "\n",
            "Start Round 4 ...\n",
            "client_0: Loss = 0.4616, Accuracy = 0.8737\n",
            "client_1: Loss = 0.4236, Accuracy = 0.8765\n",
            "client_2: Loss = 0.4193, Accuracy = 0.8796\n",
            "client_3: Loss = 0.4027, Accuracy = 0.8833\n",
            "client_4: Loss = 0.3906, Accuracy = 0.887\n",
            "client_5: Loss = 0.3893, Accuracy = 0.8839\n",
            "client_6: Loss = 0.3978, Accuracy = 0.8874\n",
            "client_7: Loss = 0.399, Accuracy = 0.8853\n",
            "After round 4, train_loss = 0.406, dev_loss = 0.4161, dev_acc = 0.8776\n",
            "\n",
            "Start Round 5 ...\n",
            "client_0: Loss = 0.4161, Accuracy = 0.8838\n",
            "client_1: Loss = 0.3834, Accuracy = 0.8874\n",
            "client_2: Loss = 0.3836, Accuracy = 0.8895\n",
            "client_3: Loss = 0.3724, Accuracy = 0.8932\n",
            "client_4: Loss = 0.3608, Accuracy = 0.8943\n",
            "client_5: Loss = 0.3637, Accuracy = 0.8923\n",
            "client_6: Loss = 0.3738, Accuracy = 0.8925\n",
            "client_7: Loss = 0.3729, Accuracy = 0.892\n",
            "After round 5, train_loss = 0.3758, dev_loss = 0.3854, dev_acc = 0.8868\n",
            "\n"
          ]
        }
      ]
    },
    {
      "cell_type": "code",
      "source": [
        "plt.plot([i + 1 for i in range(len(history))], [history[i][0] for i in range(len(history))], color='r', label='train loss')\n",
        "plt.plot([i + 1 for i in range(len(history))], [history[i][1] for i in range(len(history))], color='b', label='dev loss')\n",
        "plt.legend()\n",
        "plt.title('Training history')\n",
        "plt.show()"
      ],
      "metadata": {
        "colab": {
          "base_uri": "https://localhost:8080/",
          "height": 452
        },
        "id": "KtENNba3BOgM",
        "outputId": "62f866dc-ade0-4070-ac0e-672d7cf29fbd"
      },
      "execution_count": 12,
      "outputs": [
        {
          "output_type": "display_data",
          "data": {
            "text/plain": [
              "<Figure size 640x480 with 1 Axes>"
            ],
            "image/png": "[encoded data removed]"
          },
          "metadata": {}
        }
      ]
    },
    {
      "cell_type": "code",
      "source": [
        "global_net = to_device(FederatedNet(), device)\n",
        "history = []\n",
        "for i in range(rounds):\n",
        "    print('Start Round {} ...'.format(i + 1))\n",
        "    curr_parameters = global_net.get_parameters()\n",
        "    new_parameters = dict([(layer_name, {'weight': 0, 'bias': 0}) for layer_name in curr_parameters])\n",
        "    r = torch.randn(8)\n",
        "    fractions = [ i/sum(r) for i in r ]\n",
        "    for client, fraction in zip(clients, fractions):\n",
        "        client_parameters = client.train(curr_parameters)\n",
        "        for layer_name in client_parameters:\n",
        "            new_parameters[layer_name]['weight'] += fraction * client_parameters[layer_name]['weight']\n",
        "            new_parameters[layer_name]['bias'] += fraction * client_parameters[layer_name]['bias']\n",
        "    global_net.apply_parameters(new_parameters)\n",
        "\n",
        "    train_loss, train_acc = global_net.evaluate(train_dataset)\n",
        "    dev_loss, dev_acc = global_net.evaluate(dev_dataset)\n",
        "    print('After round {}, train_loss = {}, dev_loss = {}, dev_acc = {}\\n'.format(i + 1, round(train_loss, 4),\n",
        "            round(dev_loss, 4), round(dev_acc, 4)))\n",
        "    history.append((train_loss, dev_loss))"
      ],
      "metadata": {
        "colab": {
          "base_uri": "https://localhost:8080/"
        },
        "id": "sRorPd-gBPRL",
        "outputId": "e5c84562-b796-4b6d-8561-1655d13253e3"
      },
      "execution_count": 16,
      "outputs": [
        {
          "output_type": "stream",
          "name": "stdout",
          "text": [
            "Start Round 1 ...\n",
            "client_0: Loss = 2.2788, Accuracy = 0.188\n",
            "client_1: Loss = 2.2392, Accuracy = 0.481\n",
            "client_2: Loss = 2.1801, Accuracy = 0.6002\n",
            "client_3: Loss = 2.0606, Accuracy = 0.6273\n",
            "client_4: Loss = 1.8502, Accuracy = 0.6607\n",
            "client_5: Loss = 1.4993, Accuracy = 0.7102\n",
            "client_6: Loss = 1.1246, Accuracy = 0.7599\n",
            "client_7: Loss = 0.863, Accuracy = 0.7957\n",
            "After round 1, train_loss = 2.2982, dev_loss = 2.2976, dev_acc = 0.1483\n",
            "\n",
            "Start Round 2 ...\n",
            "client_0: Loss = 2.2916, Accuracy = 0.2052\n",
            "client_1: Loss = 2.2814, Accuracy = 0.2488\n",
            "client_2: Loss = 2.2694, Accuracy = 0.2695\n",
            "client_3: Loss = 2.2524, Accuracy = 0.32\n",
            "client_4: Loss = 2.2332, Accuracy = 0.3599\n",
            "client_5: Loss = 2.2032, Accuracy = 0.3897\n",
            "client_6: Loss = 2.1551, Accuracy = 0.4088\n",
            "client_7: Loss = 2.0805, Accuracy = 0.4247\n",
            "After round 2, train_loss = 2.2577, dev_loss = 2.2571, dev_acc = 0.3394\n",
            "\n",
            "Start Round 3 ...\n",
            "client_0: Loss = 2.2397, Accuracy = 0.3614\n",
            "client_1: Loss = 2.21, Accuracy = 0.3775\n",
            "client_2: Loss = 2.1693, Accuracy = 0.3916\n",
            "client_3: Loss = 2.0989, Accuracy = 0.4369\n",
            "client_4: Loss = 1.9995, Accuracy = 0.4717\n",
            "client_5: Loss = 1.8423, Accuracy = 0.5235\n",
            "client_6: Loss = 1.6226, Accuracy = 0.5983\n",
            "client_7: Loss = 1.3694, Accuracy = 0.6892\n",
            "After round 3, train_loss = 2.3008, dev_loss = 2.3005, dev_acc = 0.115\n",
            "\n",
            "Start Round 4 ...\n",
            "client_0: Loss = 2.2988, Accuracy = 0.111\n",
            "client_1: Loss = 2.2973, Accuracy = 0.1151\n",
            "client_2: Loss = 2.2967, Accuracy = 0.1151\n",
            "client_3: Loss = 2.294, Accuracy = 0.1098\n",
            "client_4: Loss = 2.2934, Accuracy = 0.1072\n",
            "client_5: Loss = 2.2912, Accuracy = 0.1079\n",
            "client_6: Loss = 2.2883, Accuracy = 0.113\n",
            "client_7: Loss = 2.2853, Accuracy = 0.1156\n",
            "After round 4, train_loss = 2.2905, dev_loss = 2.2902, dev_acc = 0.115\n",
            "\n",
            "Start Round 5 ...\n",
            "client_0: Loss = 2.2876, Accuracy = 0.1113\n",
            "client_1: Loss = 2.285, Accuracy = 0.115\n",
            "client_2: Loss = 2.2832, Accuracy = 0.1155\n",
            "client_3: Loss = 2.2789, Accuracy = 0.1101\n",
            "client_4: Loss = 2.2762, Accuracy = 0.111\n",
            "client_5: Loss = 2.2711, Accuracy = 0.1274\n",
            "client_6: Loss = 2.2644, Accuracy = 0.1432\n",
            "client_7: Loss = 2.256, Accuracy = 0.1535\n",
            "After round 5, train_loss = 2.3048, dev_loss = 2.3046, dev_acc = 0.115\n",
            "\n"
          ]
        }
      ]
    },
    {
      "cell_type": "code",
      "source": [
        "plt.plot([i + 1 for i in range(len(history))], [history[i][0] for i in range(len(history))], color='r', label='train loss')\n",
        "plt.plot([i + 1 for i in range(len(history))], [history[i][1] for i in range(len(history))], color='b', label='dev loss')\n",
        "plt.legend()\n",
        "plt.title('Training history')\n",
        "plt.show()"
      ],
      "metadata": {
        "id": "8b3QI32b2u6f",
        "outputId": "889fd9f1-0996-463e-b62d-c15ca8b0edf3",
        "colab": {
          "base_uri": "https://localhost:8080/",
          "height": 452
        }
      },
      "execution_count": 17,
      "outputs": [
        {
          "output_type": "display_data",
          "data": {
            "text/plain": [
              "<Figure size 640x480 with 1 Axes>"
            ],
            "image/png": "[encoded data removed]"
          },
          "metadata": {}
        }
      ]
    }
  ]
}